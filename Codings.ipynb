{
 "cells": [
  {
   "cell_type": "markdown",
   "id": "2d5b06b2",
   "metadata": {},
   "source": [
    "## Fast Component-by-Component Digit-by-Digit Algorithm for Rank-1 Lattice Rules"
   ]
  },
  {
   "cell_type": "markdown",
   "id": "231f674e",
   "metadata": {},
   "source": [
    "Here, we provide a fast algorithm from this [paper](https://www.sciencedirect.com/science/article/abs/pii/S0885064X21000108?via%3Dihub) and\n",
    "presented in Algorithm 3, obtaining a construction cost of $O(sN \\log(N))$. Where $N = 2^n$ is the number of points and $s$ is the number of dimensions. For more information visit this [paper](https://www.sciencedirect.com/science/article/abs/pii/S0885064X21000108?via%3Dihub)."
   ]
  },
  {
   "cell_type": "markdown",
   "id": "3e9e7211",
   "metadata": {},
   "source": [
    "#### Function:\n",
    "\n",
    "`dbd_cbc(n, s, gamma)`:\n",
    "\n",
    "Inputs:\n",
    "-    n ->         number of points $2^n$, integer, scalar\n",
    "-    s ->         number of dimensions, integer, scalar\n",
    "-    gamma ->     product weight sequence per dimension, array of lengths\n",
    "\n",
    "Outputs:\n",
    "-    $\\mathbf{z}$ ->           generating vector of the lattice rule, array of lengths\n",
    "\n",
    "where the resulting integer vector $\\mathbf{z} = (z_1, \\ldots, z_s) \\in \\mathbb{Z}^s$ is then used as the generating vector of a lattice rule with $N= 2^n$ points in $s$ (or fewer) dimensions."
   ]
  },
  {
   "cell_type": "markdown",
   "id": "bdf84cec",
   "metadata": {},
   "source": [
    "#### Example used\n",
    "\n",
    "    Construct lattice rule with n = 10, gamma_j = j^(-2), s = 20"
   ]
  },
  {
   "cell_type": "markdown",
   "id": "bce6d15f",
   "metadata": {},
   "source": [
    "### 1. Import necessary libraries"
   ]
  },
  {
   "cell_type": "code",
   "execution_count": 1,
   "id": "258caf58",
   "metadata": {},
   "outputs": [],
   "source": [
    "import numpy as np"
   ]
  },
  {
   "cell_type": "markdown",
   "id": "1a448595",
   "metadata": {},
   "source": [
    "### 2. Define the function"
   ]
  },
  {
   "cell_type": "code",
   "execution_count": 2,
   "id": "ca8a398d",
   "metadata": {},
   "outputs": [],
   "source": [
    "def dbd_cbc(n, s, gamma):\n",
    "    assert len(gamma) >= s, \"Provided weight sequence not long enough\"\n",
    "    K = -np.log(np.sin(np.pi*np.arange(1,2**(n-1))/2**n)**2)\n",
    "    q = 1 + gamma[0]*K\n",
    "    z = np.ones(s, dtype=int)\n",
    "    for r in range(1,s):\n",
    "        for v in range(2,n+1):\n",
    "            z_rv = z[r] + np.array([[0],[2**(v-1)]])\n",
    "            idx = np.mod(np.multiply(z_rv,np.arange(1,2**(v-1),2)),2**v)\n",
    "            idx = 2**(n-v)*np.minimum(idx,2**v - idx)\n",
    "            u = K[idx-1]\n",
    "            h_rv = np.zeros(2)\n",
    "            for k in range(v,n+1):\n",
    "                q_idx = 2**(n-k) * np.arange(1,2**(k-1),2).reshape(-1,2**(v-2))\n",
    "                q_idx[1::2,:] = np.fliplr(q_idx[1::2,:])\n",
    "                h_rv += 2**(v-k+1)*((q[q_idx-1].sum(axis=0)*u).sum(axis=1))\n",
    "            w = np.argmin(h_rv)\n",
    "            z[r] = z_rv[w]\n",
    "            idx = np.mod(z[r] * np.arange(1,2**(v-1),2), 2**v)\n",
    "            idx = 2**(n-v)*np.minimum(idx,2**v-idx)\n",
    "            u = K[idx-1]\n",
    "            q[2**(n-v)*np.arange(1,2**(v-1),2)-1] *= 1+gamma[r]*u\n",
    "    return z"
   ]
  },
  {
   "cell_type": "markdown",
   "id": "b4874a55",
   "metadata": {},
   "source": [
    "### 3. Test the example\n",
    "\n",
    "`Construct lattice rule with n = 10, gamma_j = j^(-2), s = 20`"
   ]
  },
  {
   "cell_type": "code",
   "execution_count": 3,
   "id": "b4736325",
   "metadata": {},
   "outputs": [],
   "source": [
    "n = 10\n",
    "s = 20\n",
    "gamma = 1.0/pow(np.arange(1,s+1),2)"
   ]
  },
  {
   "cell_type": "code",
   "execution_count": 4,
   "id": "220d0c07",
   "metadata": {},
   "outputs": [
    {
     "name": "stdout",
     "output_type": "stream",
     "text": [
      "[  1 165 109 285 477 141 949 629 909 885  61 821 309 445 373 781 309 117\n",
      " 845 181]\n"
     ]
    },
    {
     "name": "stderr",
     "output_type": "stream",
     "text": [
      "<ipython-input-2-2af227436790>:18: DeprecationWarning: Conversion of an array with ndim > 0 to a scalar is deprecated, and will error in future. Ensure you extract a single element from your array before performing this operation. (Deprecated NumPy 1.25.)\n",
      "  z[r] = z_rv[w]\n"
     ]
    }
   ],
   "source": [
    "z = dbd_cbc(n,s,gamma)\n",
    "print(z)"
   ]
  }
 ],
 "metadata": {
  "kernelspec": {
   "display_name": "Python 3",
   "language": "python",
   "name": "python3"
  },
  "language_info": {
   "codemirror_mode": {
    "name": "ipython",
    "version": 3
   },
   "file_extension": ".py",
   "mimetype": "text/x-python",
   "name": "python",
   "nbconvert_exporter": "python",
   "pygments_lexer": "ipython3",
   "version": "3.10.9"
  }
 },
 "nbformat": 4,
 "nbformat_minor": 5
}
